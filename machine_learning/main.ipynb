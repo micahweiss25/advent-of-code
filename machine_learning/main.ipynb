{
 "cells": [
  {
   "cell_type": "code",
   "execution_count": 12,
   "metadata": {},
   "outputs": [
    {
     "name": "stdout",
     "output_type": "stream",
     "text": [
      "X_train: (60000, 28, 28)\n"
     ]
    },
    {
     "data": {
      "text/plain": [
       "\"print('Y_train: ' + str(train_y.shape))\\nprint('X_test:  '  + str(test_X.shape))\\nprint('Y_test:  '  + str(test_y.shape))\""
      ]
     },
     "execution_count": 12,
     "metadata": {},
     "output_type": "execute_result"
    }
   ],
   "source": [
    "from MyProgram import NeuralNetwork, Layer\n",
    "from keras.datasets import mnist\n",
    "\n",
    "(train_X, train_y), (test_X, test_y) = mnist.load_data()\n",
    "\n",
    "model = NeuralNetwork()\n",
    "\n",
    "model.addLayer(activation=\"sigmoid\", nodes=16, input_size=716)\n",
    "model.addLayer(activation=\"sigmoid\", nodes=32, input_size=16)\n",
    "\n",
    "print('X_train: ' + str(train_X.shape))\n",
    "'''print('Y_train: ' + str(train_y.shape))\n",
    "print('X_test:  '  + str(test_X.shape))\n",
    "print('Y_test:  '  + str(test_y.shape))'''\n"
   ]
  },
  {
   "cell_type": "code",
   "execution_count": 16,
   "metadata": {},
   "outputs": [
    {
     "ename": "AttributeError",
     "evalue": "'Layer' object has no attribute 'bias'",
     "output_type": "error",
     "traceback": [
      "\u001b[1;31m---------------------------------------------------------------------------\u001b[0m",
      "\u001b[1;31mAttributeError\u001b[0m                            Traceback (most recent call last)",
      "\u001b[1;32mc:\\Users\\Micah.Weiss\\Documents\\random code\\machine_learning\\main.ipynb Cell 2'\u001b[0m in \u001b[0;36m<cell line: 1>\u001b[1;34m()\u001b[0m\n\u001b[1;32m----> <a href='vscode-notebook-cell:/c%3A/Users/Micah.Weiss/Documents/random%20code/machine_learning/main.ipynb#ch0000001?line=0'>1</a>\u001b[0m model\u001b[39m.\u001b[39;49mrun(train_X[:\u001b[39m10\u001b[39;49m])\n",
      "File \u001b[1;32mc:\\Users\\Micah.Weiss\\Documents\\random code\\machine_learning\\MyProgram.py:21\u001b[0m, in \u001b[0;36mNeuralNetwork.run\u001b[1;34m(self, data)\u001b[0m\n\u001b[0;32m     19\u001b[0m \u001b[39mself\u001b[39m\u001b[39m.\u001b[39mactivations\u001b[39m.\u001b[39mappend(activation)\n\u001b[0;32m     20\u001b[0m \u001b[39mfor\u001b[39;00m i \u001b[39min\u001b[39;00m \u001b[39mself\u001b[39m\u001b[39m.\u001b[39mlayers:\n\u001b[1;32m---> 21\u001b[0m     activation \u001b[39m=\u001b[39m i\u001b[39m.\u001b[39;49mrun(activation)\n\u001b[0;32m     22\u001b[0m     \u001b[39mself\u001b[39m\u001b[39m.\u001b[39mactivations\u001b[39m.\u001b[39mappend(activation)\n",
      "File \u001b[1;32mc:\\Users\\Micah.Weiss\\Documents\\random code\\machine_learning\\MyProgram.py:43\u001b[0m, in \u001b[0;36mLayer.run\u001b[1;34m(self, activations)\u001b[0m\n\u001b[0;32m     41\u001b[0m var \u001b[39m=\u001b[39m \u001b[39msum\u001b[39m(var)\n\u001b[0;32m     42\u001b[0m \u001b[39m# add the bias\u001b[39;00m\n\u001b[1;32m---> 43\u001b[0m var \u001b[39m+\u001b[39m\u001b[39m=\u001b[39m \u001b[39mself\u001b[39;49m\u001b[39m.\u001b[39;49mbias[num]\n\u001b[0;32m     44\u001b[0m \u001b[39m# return the activation\u001b[39;00m\n\u001b[0;32m     45\u001b[0m var \u001b[39m=\u001b[39m sigmoid(var)\n",
      "\u001b[1;31mAttributeError\u001b[0m: 'Layer' object has no attribute 'bias'"
     ]
    }
   ],
   "source": [
    "model.run(train_X[:10])"
   ]
  }
 ],
 "metadata": {
  "kernelspec": {
   "display_name": "Python 3.8.0 64-bit",
   "language": "python",
   "name": "python3"
  },
  "language_info": {
   "codemirror_mode": {
    "name": "ipython",
    "version": 3
   },
   "file_extension": ".py",
   "mimetype": "text/x-python",
   "name": "python",
   "nbconvert_exporter": "python",
   "pygments_lexer": "ipython3",
   "version": "3.8.0"
  },
  "orig_nbformat": 4,
  "vscode": {
   "interpreter": {
    "hash": "570feb405e2e27c949193ac68f46852414290d515b0ba6e5d90d076ed2284471"
   }
  }
 },
 "nbformat": 4,
 "nbformat_minor": 2
}
